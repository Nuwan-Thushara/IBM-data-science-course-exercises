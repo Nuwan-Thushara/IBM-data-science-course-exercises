{
 "cells": [
  {
   "cell_type": "markdown",
   "id": "c393f0e9",
   "metadata": {},
   "source": [
    "# Peer-graded Assignment"
   ]
  },
  {
   "cell_type": "markdown",
   "id": "a906ddbd",
   "metadata": {},
   "source": [
    "## Introduction\n",
    "\n",
    "Congratulations on finishing all the modules of this course. This week, you'll work on your final assignment, which will be graded by your peers. \n",
    "\n",
    "This course introduced you to multiple data science tools, and in this final project, you will use Jupyterlite Notebook, one of the easiest tools to share publicly. \n",
    "\n",
    "Leveraging Jupyterlite Notebook on Skills Network labs, you will create your Jupyterlite Notebook (in English) and share it via a public GitHub link."
   ]
  },
  {
   "cell_type": "markdown",
   "id": "89a26e43",
   "metadata": {},
   "source": [
    "## Data Science Languages\n",
    "- Python\n",
    "- R\n",
    "- Julia"
   ]
  },
  {
   "cell_type": "markdown",
   "id": "091660ab",
   "metadata": {},
   "source": [
    "## Data Science Libraries\n",
    "- NumPy\n",
    "- Pandas\n",
    "- Matplotlib\n",
    "- Seaborn\n",
    "- Scikit-learn"
   ]
  },
  {
   "cell_type": "markdown",
   "id": "bb8b1f73",
   "metadata": {},
   "source": [
    "## Data Science Tools\n",
    "\n",
    "| Tool           | Description                      |\n",
    "|----------------|----------------------------------|\n",
    "| Jupyter        | Interactive computing           |\n",
    "| TensorFlow     | Machine learning library         |\n",
    "| Tableau        | Data visualization              |\n",
    "| SQL            | Database querying                |\n",
    "| Hadoop         | Distributed data processing     |"
   ]
  },
  {
   "cell_type": "markdown",
   "id": "3dd5b5fe",
   "metadata": {},
   "source": [
    "## Arithmetic Expressions\n",
    "In this section, we'll explore examples of basic arithmetic expressions using Python."
   ]
  },
  {
   "cell_type": "code",
   "execution_count": 11,
   "id": "1d114d5c",
   "metadata": {},
   "outputs": [
    {
     "data": {
      "text/plain": [
       "(15, 8)"
      ]
     },
     "execution_count": 11,
     "metadata": {},
     "output_type": "execute_result"
    }
   ],
   "source": [
    "# Multiply and Add Numbers\n",
    "a = 5\n",
    "b = 3\n",
    "product = a * b\n",
    "sum_result = a + b\n",
    "\n",
    "product, sum_result"
   ]
  },
  {
   "cell_type": "code",
   "execution_count": 12,
   "id": "d3f9158b",
   "metadata": {},
   "outputs": [
    {
     "data": {
      "text/plain": [
       "2.0"
      ]
     },
     "execution_count": 12,
     "metadata": {},
     "output_type": "execute_result"
    }
   ],
   "source": [
    "# Convert Minutes to Hours\n",
    "minutes = 120\n",
    "hours = minutes / 60\n",
    "\n",
    "hours"
   ]
  },
  {
   "cell_type": "markdown",
   "id": "b7d70610",
   "metadata": {},
   "source": [
    "## Objectives\n",
    "1. Explore data science languages and libraries.\n",
    "2. Understand basic arithmetic expressions.\n",
    "3. Practice coding examples in Python.\n",
    "4. Share the notebook on GitHub."
   ]
  },
  {
   "cell_type": "markdown",
   "id": "9d9b5f3b",
   "metadata": {},
   "source": [
    "## Author\n",
    "Chamuditha Kalpage"
   ]
  }
 ],
 "metadata": {
  "kernelspec": {
   "display_name": "Python 3 (ipykernel)",
   "language": "python",
   "name": "python3"
  },
  "language_info": {
   "codemirror_mode": {
    "name": "ipython",
    "version": 3
   },
   "file_extension": ".py",
   "mimetype": "text/x-python",
   "name": "python",
   "nbconvert_exporter": "python",
   "pygments_lexer": "ipython3",
   "version": "3.11.5"
  }
 },
 "nbformat": 4,
 "nbformat_minor": 5
}
